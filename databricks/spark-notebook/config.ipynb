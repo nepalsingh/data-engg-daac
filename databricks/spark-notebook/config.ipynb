{
 "cells": [
  {
   "cell_type": "markdown",
   "id": "bcf09071",
   "metadata": {},
   "source": [
    "# Azure Storage Account  \n",
    "\n",
    "This notebook demonstrates how to use a configuration file to interact with an Azure Storage Account (`agn12`) using the Azure SDK for Python."
   ]
  },
  {
   "cell_type": "code",
   "execution_count": null,
   "id": "185312a8",
   "metadata": {},
   "outputs": [],
   "source": [
    "import json\n",
    "import os\n",
    "\n",
    "environment = os.getenv('environment', 'dev')\n",
    "\n",
    "# Load configuration from config.json\n",
    "with open('config.json', 'r') as f:\n",
    "    config = json.load(f)\n",
    "\n",
    "os.environ['storage_account'] = config[environment]['storage_account']\n"
   ]
  }
 ],
 "metadata": {
  "language_info": {
   "name": "python"
  }
 },
 "nbformat": 4,
 "nbformat_minor": 5
}
